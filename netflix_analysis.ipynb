{
 "cells": [
  {
   "cell_type": "code",
   "execution_count": null,
   "id": "85a311b0",
   "metadata": {
    "vscode": {
     "languageId": "plaintext"
    }
   },
   "outputs": [],
   "source": [
    "# === Load Libraries ===\n",
    "import pandas as pd\n",
    "import matplotlib.pyplot as plt\n",
    "import seaborn as sns\n",
    "import plotly.express as px\n",
    "\n",
    "# === Load Data ===\n",
    "df = pd.read_csv(\"../data/netflix_titles.csv\")\n",
    "\n",
    "# === Basic Cleaning ===\n",
    "df['date_added'] = pd.to_datetime(df['date_added'])\n",
    "df['year_added'] = df['date_added'].dt.year\n",
    "df['month_added'] = df['date_added'].dt.month\n",
    "\n",
    "# === Movies vs TV Shows ===\n",
    "sns.countplot(data=df, x=\"type\")\n",
    "plt.title(\"Movies vs TV Shows on Netflix\")\n",
    "plt.show()\n",
    "\n",
    "# === Content Growth by Year ===\n",
    "df['year_added'].value_counts().sort_index().plot(kind='bar', figsize=(10,5))\n",
    "plt.title(\"Content Added to Netflix Over Time\")\n",
    "plt.xlabel(\"Year Added\")\n",
    "plt.ylabel(\"Number of Titles\")\n",
    "plt.show()\n",
    "\n",
    "# === Top 10 Countries ===\n",
    "top_countries = df['country'].value_counts().head(10)\n",
    "px.bar(top_countries, title=\"Top Countries with Most Netflix Titles\").show()\n",
    "\n",
    "# === Popular Genres ===\n",
    "genres = df['listed_in'].str.split(',').explode().str.strip()\n",
    "genres.value_counts().head(10).plot(kind='bar')\n",
    "plt.title(\"Top 10 Netflix Genres\")\n",
    "plt.show()\n"
   ]
  }
 ],
 "metadata": {
  "language_info": {
   "name": "python"
  }
 },
 "nbformat": 4,
 "nbformat_minor": 5
}
